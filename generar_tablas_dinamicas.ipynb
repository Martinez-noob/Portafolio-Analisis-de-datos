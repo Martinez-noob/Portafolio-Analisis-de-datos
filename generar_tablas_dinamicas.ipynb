{
 "cells": [
  {
   "cell_type": "code",
   "execution_count": null,
   "id": "b5712364",
   "metadata": {},
   "outputs": [],
   "source": [
    "#generar tabla Calendario\n",
    "import pandas as pd\n",
    "import locale\n",
    "\n",
    "# Establecer el idioma en español\n",
    "import locale\n",
    "\n",
    "for loc in ['Spanish_Spain.1252', 'es_ES.UTF-8']:\n",
    "    try:\n",
    "        locale.setlocale(locale.LC_TIME, loc)\n",
    "        break\n",
    "    except locale.Error:\n",
    "        continue\n",
    "else:\n",
    "    print(\"⚠️ No se pudo establecer el idioma español. Verifica la configuración regional de tu sistema.\")\n",
    "\n",
    "# Crear el rango de fechas\n",
    "fechas = pd.date_range(start=\"2003-01-01\", end=\"2025-12-01\", freq='D')\n",
    "\n",
    "# Crear DataFrame base\n",
    "calendario = pd.DataFrame({'FECHA_DATETIME': fechas})\n",
    "\n",
    "# Formato de fecha como d/m/yyyy\n",
    "calendario['FECHA'] = calendario['FECHA_DATETIME'].dt.strftime('%#d/%#m/%Y')\n",
    "\n",
    "# Año y mes\n",
    "calendario['AÑO'] = calendario['FECHA_DATETIME'].dt.year\n",
    "calendario['MES_NUM'] = calendario['FECHA_DATETIME'].dt.month\n",
    "calendario['MES_NOMBRE'] = calendario['FECHA_DATETIME'].dt.strftime('%B')\n",
    "\n",
    "# Trimestre (formato: \"Trimestre 1\", \"Trimestre 2\", etc.)\n",
    "calendario['TRIMESTRE'] = calendario['FECHA_DATETIME'].dt.quarter.apply(lambda x: f'Trimestre {x}')\n",
    "\n",
    "# Cuatrimestre (enero-abril = 1, mayo-agosto = 2, sep-dic = 3 → formato: \"Cuatrimestre 1\", etc.)\n",
    "calendario['CUATRIMESTRE'] = ((calendario['MES_NUM'] - 1) // 4 + 1).apply(lambda x: f'Cuatrimestre {x}')\n",
    "\n",
    "# Semana del año\n",
    "calendario['NUMERO_SEMANA'] = calendario['FECHA_DATETIME'].dt.isocalendar().week\n",
    "\n",
    "# Día de la semana\n",
    "calendario['DIA_NOMBRE'] = calendario['FECHA_DATETIME'].dt.strftime('%A') \n",
    "\n",
    "#Lunes: 1, Martes:2 ....\n",
    "calendario['DIA_NUM_SEMANA'] = calendario['FECHA_DATETIME'].dt.weekday + 1\n",
    "\n",
    "# Día del año\n",
    "calendario['DIA_DEL_AÑO'] = calendario['FECHA_DATETIME'].dt.dayofyear\n",
    "\n",
    "# Eliminar la columna datetime si no se necesita\n",
    "calendario = calendario.drop(columns=['FECHA_DATETIME'])\n",
    "\n",
    "# Guardar como CSV\n",
    "calendario.to_csv(\"Calendario.csv\", index=False, encoding='utf-8')"
   ]
  },
  {
   "cell_type": "code",
   "execution_count": 8,
   "id": "7992f5e2",
   "metadata": {},
   "outputs": [],
   "source": [
    "#generar tabla pais\n",
    "import polars as pl\n",
    "\n",
    "dt = pl.read_csv('HURTO_A_VEH_CULOS_20250501.csv', encoding='utf8')\n",
    "\n",
    "Departamentos_unicos = (\n",
    "    dt.select([\"DEPARTAMENTO\", \"MUNICIPIO\"])\n",
    "    .unique()\n",
    "    .sort([\"DEPARTAMENTO\",\"MUNICIPIO\"])\n",
    "    .with_columns([\n",
    "        pl.lit(\"COLOMBIA\").alias(\"PAÍS\")\n",
    "    ])\n",
    ")\n",
    "Departamentos_unicos.write_csv(\"Tabla_pais.csv\")"
   ]
  },
  {
   "cell_type": "code",
   "execution_count": null,
   "id": "a3170d84",
   "metadata": {},
   "outputs": [],
   "source": []
  }
 ],
 "metadata": {
  "kernelspec": {
   "display_name": "Python 3",
   "language": "python",
   "name": "python3"
  },
  "language_info": {
   "codemirror_mode": {
    "name": "ipython",
    "version": 3
   },
   "file_extension": ".py",
   "mimetype": "text/x-python",
   "name": "python",
   "nbconvert_exporter": "python",
   "pygments_lexer": "ipython3",
   "version": "3.13.2"
  }
 },
 "nbformat": 4,
 "nbformat_minor": 5
}
